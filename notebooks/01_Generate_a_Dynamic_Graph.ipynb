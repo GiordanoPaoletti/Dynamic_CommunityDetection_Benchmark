{
 "cells": [
  {
   "cell_type": "markdown",
   "metadata": {},
   "source": [
    "# Generate a Dynamic Graph\n",
    "In this notebook, we generate a dynamic graph based on a synthetic LFR graph, where we define the tranformation, the speed and the parameters of the initial graph.\n",
    "If your goal is to generate multiple graph copies for a statistical comparison of algorithms, consider instead the usage of `../experiments/01a_generate_graphs.py`."
   ]
  },
  {
   "cell_type": "code",
   "execution_count": 31,
   "metadata": {},
   "outputs": [],
   "source": [
    "import sys\n",
    "sys.path.append('../')\n",
    "from src.simulation import GraphMovementSimulation\n",
    "import networkx as nx\n",
    "from tqdm import tqdm\n",
    "import os\n",
    "import pandas as pd"
   ]
  },
  {
   "cell_type": "markdown",
   "metadata": {},
   "source": [
    "Chose a transformation among those in the list: \n",
    "- 'birth', \n",
    "- 'fragment',\n",
    "- 'split',\n",
    "- 'merge',\n",
    "- 'add_nodes',\n",
    "- 'intermittence_nodes', \n",
    "- 'switch',\n",
    "- 'break_up_communities',\n",
    "- 'remove_nodes'"
   ]
  },
  {
   "cell_type": "code",
   "execution_count": 35,
   "metadata": {},
   "outputs": [],
   "source": [
    "transformation='fragment'\n",
    "TSS=50 # number of snapshots\n",
    "TIME_TO_TRANFORM = 30 # time of the transformation: it corresponds to the number of snapshots needed to complete the transformation\n",
    "assert TIME_TO_TRANFORM<TSS\n",
    "SPEED=1/TIME_TO_TRANFORM\n",
    "\n",
    "# select the initial number of nodes in the graph \n",
    "if transformation in ['remove_nodes','remove_edges']: \n",
    "    n=3000 \n",
    "else: \n",
    "    n=1000\n",
    "\n",
    "\n",
    "n_changes=3 # number of communities affected from the morphing transformations\n",
    "mu = .2 # LFR mixing parameter: how much the communities are mixed between 0 and 1\n",
    "        # You can also set the othe paramaters of the LFR benchmark in the initialization of GraphMovementSimulation"
   ]
  },
  {
   "cell_type": "code",
   "execution_count": 36,
   "metadata": {},
   "outputs": [],
   "source": [
    "#generate the folder to store the data:\n",
    "directory_path=f'../results/graphs/mu0{int(mu*10)}/{transformation}/'\n",
    "if not os.path.exists(directory_path):\n",
    "    os.makedirs(directory_path)"
   ]
  },
  {
   "cell_type": "code",
   "execution_count": 37,
   "metadata": {},
   "outputs": [
    {
     "name": "stdout",
     "output_type": "stream",
     "text": [
      "Graph #0 -> Final seed: 4\n"
     ]
    }
   ],
   "source": [
    "gname=f'{transformation}_mu0{int(mu*10)}'\n",
    "i=0\n",
    "sim_count=0\n",
    "while True:\n",
    "    # sometimes the generation of the synthetic static graph fails due to the networkx implementation of the LFR static benchmark, so we need to repeat the generation till we find the right seed. \n",
    "    seed=i+sim_count\n",
    "    try:\n",
    "        sim = GraphMovementSimulation(n=n, mu=mu, gname=f'{gname}_{i}', seed=seed)\n",
    "        G = sim.setup_transformation(transformation, n_splits=n_changes, save=True)\n",
    "        break\n",
    "    except:\n",
    "        sim_count+=1\n",
    "print(f'Graph #{i} -> Final seed: {seed}')\n",
    "\n",
    "\n",
    "# Create the directory to store the graph:\n",
    "if not os.path.exists(directory_path+ f'G{i:02}/'):\n",
    "    # If it doesn't exist, create the directory\n",
    "    os.makedirs(directory_path+ f'G{i:02}/')\n",
    "\n",
    "# Store seed information\n",
    "if os.path.exists(directory_path+'seeds.csv'):\n",
    "    f=open(directory_path+'seeds.csv','a')\n",
    "else:\n",
    "    f=open(directory_path+'seeds.csv','w')\n",
    "    f.write('num_graph,seed\\n')\n",
    "f.write(f'{i},{seed}\\n')\n",
    "f.close()\n",
    "\n"
   ]
  },
  {
   "cell_type": "code",
   "execution_count": 38,
   "metadata": {},
   "outputs": [
    {
     "name": "stderr",
     "output_type": "stream",
     "text": [
      "Processing fragment_mu02_0: 100%|██████████| 50/50 [00:09<00:00,  5.02it/s]\n"
     ]
    }
   ],
   "source": [
    "#run the transformation and \n",
    "_,GT=run=sim.run( G, N_Graph=i, delta=SPEED, transformation=transformation,timesteps=TSS,start_trans= 0, stop_trans= TSS)\n",
    "pd.DataFrame({'y_true_init':GT['y_true_init'],'y_true_final':GT[ 'y_true_final'] }).fillna('')\\\n",
    "                .to_csv(f'../results/graphs/mu0{int(mu*10)}/{transformation}/G{i:02}/GT.csv.gz',sep=',',index=True,index_label='Node_id')\n",
    "\n"
   ]
  },
  {
   "cell_type": "code",
   "execution_count": null,
   "metadata": {},
   "outputs": [],
   "source": []
  },
  {
   "cell_type": "code",
   "execution_count": null,
   "metadata": {},
   "outputs": [],
   "source": []
  }
 ],
 "metadata": {
  "kernelspec": {
   "display_name": "eLouvain",
   "language": "python",
   "name": "python3"
  },
  "language_info": {
   "codemirror_mode": {
    "name": "ipython",
    "version": 3
   },
   "file_extension": ".py",
   "mimetype": "text/x-python",
   "name": "python",
   "nbconvert_exporter": "python",
   "pygments_lexer": "ipython3",
   "version": "3.10.13"
  }
 },
 "nbformat": 4,
 "nbformat_minor": 2
}
